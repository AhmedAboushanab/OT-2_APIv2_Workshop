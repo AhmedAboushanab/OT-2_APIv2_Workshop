{
 "cells": [
  {
   "cell_type": "markdown",
   "metadata": {
    "toc": true
   },
   "source": [
    "<h1>Table of Contents<span class=\"tocSkip\"></span></h1>\n",
    "<div class=\"toc\"><ul class=\"toc-item\"><li><span><a href=\"#Reading-the-row-and-column-of-a-well-location-on-24-well-plate\" data-toc-modified-id=\"Reading-the-row-and-column-of-a-well-location-on-24-well-plate-1\"><span class=\"toc-item-num\">1&nbsp;&nbsp;</span>Reading the row and column of a well location on 24-well plate</a></span><ul class=\"toc-item\"><li><span><a href=\"#Starting-point\" data-toc-modified-id=\"Starting-point-1.1\"><span class=\"toc-item-num\">1.1&nbsp;&nbsp;</span>Starting point</a></span></li><li><span><a href=\"#Suggested-solution\" data-toc-modified-id=\"Suggested-solution-1.2\"><span class=\"toc-item-num\">1.2&nbsp;&nbsp;</span>Suggested solution</a></span></li></ul></li><li><span><a href=\"#Swapping-input-and-output-in-a-human-readable-line\" data-toc-modified-id=\"Swapping-input-and-output-in-a-human-readable-line-2\"><span class=\"toc-item-num\">2&nbsp;&nbsp;</span>Swapping input and output in a human readable line</a></span><ul class=\"toc-item\"><li><span><a href=\"#Starting-point\" data-toc-modified-id=\"Starting-point-2.1\"><span class=\"toc-item-num\">2.1&nbsp;&nbsp;</span>Starting point</a></span></li><li><span><a href=\"#Suggested-solution\" data-toc-modified-id=\"Suggested-solution-2.2\"><span class=\"toc-item-num\">2.2&nbsp;&nbsp;</span>Suggested solution</a></span></li></ul></li><li><span><a href=\"#Mapping-96-well-location-to-index\" data-toc-modified-id=\"Mapping-96-well-location-to-index-3\"><span class=\"toc-item-num\">3&nbsp;&nbsp;</span>Mapping 96-well location to index</a></span><ul class=\"toc-item\"><li><span><a href=\"#Starting-point\" data-toc-modified-id=\"Starting-point-3.1\"><span class=\"toc-item-num\">3.1&nbsp;&nbsp;</span>Starting point</a></span></li><li><span><a href=\"#Suggested-solution\" data-toc-modified-id=\"Suggested-solution-3.2\"><span class=\"toc-item-num\">3.2&nbsp;&nbsp;</span>Suggested solution</a></span></li></ul></li><li><span><a href=\"#Generating-a-list-of-grouped-wells\" data-toc-modified-id=\"Generating-a-list-of-grouped-wells-4\"><span class=\"toc-item-num\">4&nbsp;&nbsp;</span>Generating a list of grouped wells</a></span><ul class=\"toc-item\"><li><span><a href=\"#Starting-point\" data-toc-modified-id=\"Starting-point-4.1\"><span class=\"toc-item-num\">4.1&nbsp;&nbsp;</span>Starting point</a></span></li><li><span><a href=\"#Suggested-solution\" data-toc-modified-id=\"Suggested-solution-4.2\"><span class=\"toc-item-num\">4.2&nbsp;&nbsp;</span>Suggested solution</a></span></li></ul></li><li><span><a href=\"#Writing-a-function-for-calculating-factorials\" data-toc-modified-id=\"Writing-a-function-for-calculating-factorials-5\"><span class=\"toc-item-num\">5&nbsp;&nbsp;</span>Writing a function for calculating factorials</a></span><ul class=\"toc-item\"><li><span><a href=\"#Starting-point\" data-toc-modified-id=\"Starting-point-5.1\"><span class=\"toc-item-num\">5.1&nbsp;&nbsp;</span>Starting point</a></span></li><li><span><a href=\"#Suggested-solution\" data-toc-modified-id=\"Suggested-solution-5.2\"><span class=\"toc-item-num\">5.2&nbsp;&nbsp;</span>Suggested solution</a></span></li></ul></li></ul></div>"
   ]
  },
  {
   "cell_type": "markdown",
   "metadata": {},
   "source": [
    "# Reading the row and column of a well location on 24-well plate\n",
    "\n",
    "A 24-well plate looks like this:\n",
    "\n",
    "|   | 1 | 2 | 3 | 4 | 5 | 6 |\n",
    "|---|---|---|---|---|---|---|\n",
    "| A |   |   |   |   |   |   |\n",
    "| B |   |   |   |   |   |   |\n",
    "| C |   |   |   |   |   |   |\n",
    "| D |   |   |   |   |   |   |\n",
    "\n",
    "If we wish to write some code to read the column and row number of any well location, the output would like this:  \n",
    "input = `\"A4\"`  \n",
    "output = `\"A4 is on Row 1 and Column 4\"`  \n",
    "\n",
    "Let us write some code to enable this readout\n",
    "\n",
    "## Starting point"
   ]
  },
  {
   "cell_type": "code",
   "execution_count": 1,
   "metadata": {},
   "outputs": [],
   "source": [
    "loc = \"A4\""
   ]
  },
  {
   "cell_type": "markdown",
   "metadata": {},
   "source": [
    "## Suggested solution"
   ]
  },
  {
   "cell_type": "code",
   "execution_count": 2,
   "metadata": {},
   "outputs": [
    {
     "name": "stdout",
     "output_type": "stream",
     "text": [
      "A4 is on Row 1 and Column 4\n"
     ]
    }
   ],
   "source": [
    "loc = \"A4\"\n",
    "\n",
    "row = loc[0]\n",
    "col = loc[1]\n",
    "\n",
    "row_map = {\n",
    "        \"A\":1,\n",
    "        \"B\":2,\n",
    "        \"C\":3,\n",
    "        \"D\":4\n",
    "    }\n",
    "\n",
    "row_no = row_map[row]\n",
    "\n",
    "output = loc + \" is on Row \" + str(row_no) + \" and Column \" + str(col)\n",
    "print(output)"
   ]
  },
  {
   "cell_type": "markdown",
   "metadata": {},
   "source": [
    "# Swapping input and output in a human readable line\n",
    "\n",
    "Say out of no reason we would like to change texts of pipette instruction, from:\n",
    "\n",
    "> Pipette from Well A1 to Well B1  \n",
    "> Pipette from Well A2 to Well B2  \n",
    "> Pipette from Well A3 to Well B3  \n",
    "> Pipette from Well A4 to Well B4  \n",
    "> Pipette from Well A5 to Well B5  \n",
    "> Pipette from Well A6 to Well B6  \n",
    "> Pipette from Well A7 to Well B7  \n",
    "> Pipette from Well A8 to Well B8  \n",
    "\n",
    "to \n",
    "\n",
    "> Pipette from Well B1 to Well A1  \n",
    "> Pipette from Well B2 to Well A2  \n",
    "> Pipette from Well B3 to Well A3  \n",
    "> Pipette from Well B4 to Well A4  \n",
    "> Pipette from Well B5 to Well A5  \n",
    "> Pipette from Well B6 to Well A6  \n",
    "> Pipette from Well B7 to Well A7  \n",
    "> Pipette from Well B8 to Well A8  \n",
    "\n",
    "Let us write a code to automate that process for us"
   ]
  },
  {
   "cell_type": "markdown",
   "metadata": {},
   "source": [
    "## Starting point"
   ]
  },
  {
   "cell_type": "code",
   "execution_count": 3,
   "metadata": {},
   "outputs": [],
   "source": [
    "instructions = [\n",
    "    \"Pipette from Well A1 to Well B1\",\n",
    "    \"Pipette from Well A2 to Well B2\",\n",
    "    \"Pipette from Well A3 to Well B3\",\n",
    "    \"Pipette from Well A4 to Well B4\",\n",
    "    \"Pipette from Well A5 to Well B5\",\n",
    "    \"Pipette from Well A6 to Well B6\",\n",
    "    \"Pipette from Well A7 to Well B7\",\n",
    "    \"Pipette from Well A8 to Well B8\"\n",
    "]"
   ]
  },
  {
   "cell_type": "markdown",
   "metadata": {},
   "source": [
    "Before we tackle the entire problem. Let us work on a single line"
   ]
  },
  {
   "cell_type": "code",
   "execution_count": 4,
   "metadata": {},
   "outputs": [],
   "source": [
    "oneline = \"Pipette from Well A1 to Well B1\""
   ]
  },
  {
   "cell_type": "markdown",
   "metadata": {},
   "source": [
    "Let us try to break down the line to get the information we want, namely, the source and destination info."
   ]
  },
  {
   "cell_type": "code",
   "execution_count": 5,
   "metadata": {},
   "outputs": [
    {
     "name": "stdout",
     "output_type": "stream",
     "text": [
      "Pipette from Well A1\n",
      "Well B1\n"
     ]
    }
   ],
   "source": [
    "# Code below\n",
    "\n",
    "broken = oneline.split(\" to \")\n",
    "front = broken[0]\n",
    "back = broken[1]\n",
    "\n",
    "# alternatively, the following code would be better\n",
    "front, back = oneline.split(\" to \")\n",
    "\n",
    "print(front)\n",
    "print(back)"
   ]
  },
  {
   "cell_type": "code",
   "execution_count": 6,
   "metadata": {},
   "outputs": [
    {
     "name": "stdout",
     "output_type": "stream",
     "text": [
      "A1\n",
      "B1\n"
     ]
    }
   ],
   "source": [
    "# Further split front and back to get the source and dest info\n",
    "\n",
    "source = front.split(\"Well \")[1]\n",
    "print(source)\n",
    "\n",
    "dest = back.split(\" \")[1]\n",
    "print(dest)"
   ]
  },
  {
   "cell_type": "code",
   "execution_count": 7,
   "metadata": {},
   "outputs": [
    {
     "data": {
      "text/plain": [
       "'Pipette from Well B1 to Well A1'"
      ]
     },
     "execution_count": 7,
     "metadata": {},
     "output_type": "execute_result"
    }
   ],
   "source": [
    "# Then create a variable to rejoin the source and dest in swapped orders together with custom texts\n",
    "output = \"Pipette from Well \" + dest + \" to Well \" + source\n",
    "output"
   ]
  },
  {
   "cell_type": "markdown",
   "metadata": {},
   "source": [
    "Then, let's apply it to the entire list by using the code together with a for loop\n",
    "\n",
    "## Suggested solution"
   ]
  },
  {
   "cell_type": "code",
   "execution_count": 8,
   "metadata": {},
   "outputs": [
    {
     "name": "stdout",
     "output_type": "stream",
     "text": [
      "Pipette from Well B1 to Well A1\n",
      "Pipette from Well B2 to Well A2\n",
      "Pipette from Well B3 to Well A3\n",
      "Pipette from Well B4 to Well A4\n",
      "Pipette from Well B5 to Well A5\n",
      "Pipette from Well B6 to Well A6\n",
      "Pipette from Well B7 to Well A7\n",
      "Pipette from Well B8 to Well A8\n"
     ]
    }
   ],
   "source": [
    "# Code below\n",
    "for oneline in instructions:\n",
    "    front, back = oneline.split(\" to \")\n",
    "    source = front.split(\"Well \")[1]\n",
    "    dest = back.split(\" \")[1]\n",
    "    output = \"Pipette from Well \" + dest + \" to Well \" + source\n",
    "    print(output)"
   ]
  },
  {
   "cell_type": "markdown",
   "metadata": {},
   "source": [
    "# Mapping 96-well location to index\n",
    "\n",
    "In the OT-2 API, well locations within a 96-well plate can be specified as well index in the following way:\n",
    "\n",
    "|   | 1 | 2  | 3  | 4  | 5  | 6  | 7  | 8  | 9  | 10 | 11 | 12 |\n",
    "|---|---|----|----|----|----|----|----|----|----|----|----|----|\n",
    "| A | 0 | 8  | 16 | 24 | 32 | 40 | 48 | 56 | 64 | 72 | 80 | 88 |\n",
    "| B | 1 | 9  | 17 | 25 | 33 | 41 | 49 | 57 | 65 | 73 | 81 | 89 |\n",
    "| C | 2 | 10 | 18 | 26 | 34 | 42 | 50 | 58 | 66 | 74 | 82 | 90 |\n",
    "| D | 3 | 11 | 19 | 27 | 35 | 43 | 51 | 59 | 67 | 75 | 83 | 91 |\n",
    "| E | 4 | 12 | 20 | 28 | 36 | 44 | 52 | 60 | 68 | 76 | 84 | 92 |\n",
    "| F | 5 | 13 | 21 | 29 | 37 | 45 | 53 | 61 | 69 | 77 | 85 | 93 |\n",
    "| G | 6 | 14 | 22 | 30 | 38 | 46 | 54 | 62 | 70 | 78 | 86 | 94 |\n",
    "| H | 7 | 15 | 23 | 31 | 39 | 47 | 55 | 63 | 71 | 79 | 87 | 95 |\n",
    "\n",
    "Let us write a function `location_to_index()` such that a string with conventional well location could be converted into a well index.  \n",
    "For example, `location_to_index(\"E8\")` would give a well index (int) of `60`.\n",
    "\n",
    "## Starting point"
   ]
  },
  {
   "cell_type": "code",
   "execution_count": null,
   "metadata": {
    "deletable": false,
    "editable": false,
    "run_control": {
     "frozen": true
    },
    "tags": [
     "raises-exception"
    ]
   },
   "outputs": [],
   "source": [
    "def location_to_index(loc=str):\n",
    "\n",
    "    \n",
    "    #%%-------Code needed here-----------\n",
    "\n",
    "\n",
    "    index = \n",
    "    #%%-------Code end here--------------\n",
    "\n",
    "    \n",
    "    return index\n",
    "\n",
    "# Code for checking\n",
    "for loc in [\"E8\", \"F4\", \"H11\"]:\n",
    "    output = \"Index of \" + loc + \" is \" + str(location_to_index(loc))\n",
    "    print(output)"
   ]
  },
  {
   "cell_type": "markdown",
   "metadata": {},
   "source": [
    "## Suggested solution"
   ]
  },
  {
   "cell_type": "code",
   "execution_count": 9,
   "metadata": {},
   "outputs": [
    {
     "name": "stdout",
     "output_type": "stream",
     "text": [
      "Index of E8 is 60\n",
      "Index of F4 is 29\n",
      "Index of H11 is 87\n"
     ]
    }
   ],
   "source": [
    "def location_to_index(loc=str):\n",
    "    row_char = loc[0]\n",
    "    col_num = int(loc[1:])\n",
    "    \n",
    "    row_to_num_map = {\n",
    "        \"A\":0,\n",
    "        \"B\":1,\n",
    "        \"C\":2,\n",
    "        \"D\":3,\n",
    "        \"E\":4,\n",
    "        \"F\":5,\n",
    "        \"G\":6,\n",
    "        \"H\":7\n",
    "    }\n",
    "    \n",
    "    index = (col_num - 1) * 8 + row_to_num_map[row_char]\n",
    "    return index\n",
    "\n",
    "for loc in [\"E8\", \"F4\", \"H11\"]:\n",
    "    output = \"Index of \" + loc + \" is \" + str(location_to_index(loc))\n",
    "    print(output)"
   ]
  },
  {
   "cell_type": "markdown",
   "metadata": {},
   "source": [
    "# Generating a list of grouped wells\n",
    "\n",
    "Assuming you want to generate a list of wells of the following 96-well plate, with your desired wells marked in \"X\"\n",
    "\n",
    "|   | 1 | 2 | 3 | 4 | 5 | 6 | 7 | 8 | 9 | 10 | 11 | 12 |\n",
    "|---|---|---|---|---|---|---|---|---|---|----|----|----|\n",
    "| A |   |   |   |   |   |   |   |   |   |    |    |    |\n",
    "| B |   |   |   |   |   |   |   | X | X | X  | X  |    |\n",
    "| C |   |   |   |   |   |   |   | X | X | X  | X  |    |\n",
    "| D |   |   |   |   |   |   |   | X | X | X  | X  |    |\n",
    "| E |   |   |   |   |   |   |   | X | X | X  | X  |    |\n",
    "| F |   |   |   |   |   |   |   | X | X | X  | X  |    |\n",
    "| G |   |   |   |   |   |   |   | X | X | X  | X  |    |\n",
    "| H |   |   |   |   |   |   |   |   |   |    |    |    |\n",
    "\n",
    "Let us code without manually adding all the well names one by one.  \n",
    "We know that the output should look something like:  \n",
    "`[\"B8\",\"C8\",\"D8\",\"E8\", ... ,\"E11\",\"F11\",\"G11\"]`  \n",
    "\n",
    "## Starting point"
   ]
  },
  {
   "cell_type": "code",
   "execution_count": null,
   "metadata": {
    "deletable": false,
    "editable": false,
    "run_control": {
     "frozen": true
    }
   },
   "outputs": [],
   "source": [
    "# Create list for making component of well locations\n",
    "rows = []\n",
    "cols = []\n",
    "\n",
    "list_of_wells = []\n",
    "\n",
    "#%%-------Code needed here-----------\n",
    "\n",
    "\n",
    "#%%-------Code end here-----------\n",
    "\n",
    "list_of_wells"
   ]
  },
  {
   "cell_type": "markdown",
   "metadata": {},
   "source": [
    "## Suggested solution"
   ]
  },
  {
   "cell_type": "code",
   "execution_count": 10,
   "metadata": {},
   "outputs": [
    {
     "data": {
      "text/plain": [
       "['B8',\n",
       " 'C8',\n",
       " 'D8',\n",
       " 'E8',\n",
       " 'F8',\n",
       " 'G8',\n",
       " 'B9',\n",
       " 'C9',\n",
       " 'D9',\n",
       " 'E9',\n",
       " 'F9',\n",
       " 'G9',\n",
       " 'B10',\n",
       " 'C10',\n",
       " 'D10',\n",
       " 'E10',\n",
       " 'F10',\n",
       " 'G10',\n",
       " 'B11',\n",
       " 'C11',\n",
       " 'D11',\n",
       " 'E11',\n",
       " 'F11',\n",
       " 'G11']"
      ]
     },
     "execution_count": 10,
     "metadata": {},
     "output_type": "execute_result"
    }
   ],
   "source": [
    "rows = [\"B\", \"C\", \"D\", \"E\", \"F\", \"G\"]\n",
    "cols = [8, 9, 10, 11]\n",
    "\n",
    "list_of_wells = []\n",
    "for col in cols:\n",
    "    for row in rows:\n",
    "        well = row + str(col)\n",
    "        list_of_wells.append(well)\n",
    "        \n",
    "list_of_wells"
   ]
  },
  {
   "cell_type": "markdown",
   "metadata": {},
   "source": [
    "# Writing a function for calculating factorials\n",
    "\n",
    "On a scientific calculator we can calculate factorials, for example, 4! = 1 × 2 × 3 × 4 = 24.\n",
    "\n",
    "Let's write a function using a for-loop and `range()` to generate factorials for any number we input.\n",
    "\n",
    "## Starting point"
   ]
  },
  {
   "cell_type": "code",
   "execution_count": null,
   "metadata": {
    "deletable": false,
    "editable": false,
    "run_control": {
     "frozen": true
    }
   },
   "outputs": [],
   "source": [
    "def factorial(num):\n",
    "\n",
    "    #%%-------Code needed here-----------\n",
    "\n",
    "\n",
    "    #%%-------Code end here-----------\n",
    "    \n",
    "    return factorial_of_num\n",
    "\n",
    "# code for checking\n",
    "factorial(10)"
   ]
  },
  {
   "cell_type": "markdown",
   "metadata": {},
   "source": [
    "Your output should be 3628800."
   ]
  },
  {
   "cell_type": "markdown",
   "metadata": {},
   "source": [
    "## Suggested solution"
   ]
  },
  {
   "cell_type": "code",
   "execution_count": 11,
   "metadata": {},
   "outputs": [
    {
     "data": {
      "text/plain": [
       "3628800"
      ]
     },
     "execution_count": 11,
     "metadata": {},
     "output_type": "execute_result"
    }
   ],
   "source": [
    "def factorial(num):\n",
    "    factorial_of_num = 1\n",
    "    for i in range(1, num + 1):\n",
    "        factorial_of_num = factorial_of_num * i\n",
    "    return factorial_of_num\n",
    "\n",
    "# code for checking\n",
    "factorial(10)"
   ]
  }
 ],
 "metadata": {
  "kernelspec": {
   "display_name": "Python 3",
   "language": "python",
   "name": "python3"
  },
  "language_info": {
   "codemirror_mode": {
    "name": "ipython",
    "version": 3
   },
   "file_extension": ".py",
   "mimetype": "text/x-python",
   "name": "python",
   "nbconvert_exporter": "python",
   "pygments_lexer": "ipython3",
   "version": "3.7.7"
  },
  "toc": {
   "base_numbering": 1,
   "nav_menu": {},
   "number_sections": true,
   "sideBar": true,
   "skip_h1_title": false,
   "title_cell": "Table of Contents",
   "title_sidebar": "Contents",
   "toc_cell": true,
   "toc_position": {},
   "toc_section_display": true,
   "toc_window_display": true
  },
  "varInspector": {
   "cols": {
    "lenName": 16,
    "lenType": 16,
    "lenVar": 40
   },
   "kernels_config": {
    "python": {
     "delete_cmd_postfix": "",
     "delete_cmd_prefix": "del ",
     "library": "var_list.py",
     "varRefreshCmd": "print(var_dic_list())"
    },
    "r": {
     "delete_cmd_postfix": ") ",
     "delete_cmd_prefix": "rm(",
     "library": "var_list.r",
     "varRefreshCmd": "cat(var_dic_list()) "
    }
   },
   "types_to_exclude": [
    "module",
    "function",
    "builtin_function_or_method",
    "instance",
    "_Feature"
   ],
   "window_display": false
  }
 },
 "nbformat": 4,
 "nbformat_minor": 2
}
