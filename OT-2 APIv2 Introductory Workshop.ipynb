{
 "cells": [
  {
   "cell_type": "markdown",
   "metadata": {},
   "source": [
    "# Disclaimer\n",
    "This workshop aims at making the OT-2 APIv2 as approachable as possible for people like me who have limited experience in programming, and therefore: \n",
    "1. Coding practices may be unorthodox and even heretic in the eyes of properly trained programmers.\n",
    "2. Methods of execution are in most instances suboptimal in performance. (see Additional Remarks #1)\n",
    "\n",
    "\n",
    "API = APIv2\n",
    "\n",
    "# Intended Outcomes\n",
    "\n",
    "By the end of the workshop, we hope participants would be able to:\n",
    "\n",
    "1.\tRead the documentation on APIv2, and know where to look for more information, and where to seek help if needed\n",
    "2.\tSet up an environment for drafting a Python protocol for OT-2 APIv2\n",
    "3.\tImport the opentrons library to initialize a protocol object, create labware objects and pipettes within it and retrieve their information\n",
    "4.\tAccess wells of plates / racks in different orders and using different methods\n",
    "5.\tInstruct the pipettes to carry out liquid movement using pipette.transfer() and pipette.distribute(), and configure them with additional parameters\n",
    "6.\tCreate a custom pipetting step using atomic commands, exemplified by a wetting step.\n",
    "7.\tSimulate the protocol in a PC and then converting it to a robot-executable one\n",
    "8.\tDebug the code using the variable explorer and the console\n",
    "9.\tAvoid codes that could rig the protocol or could complicate debugging\n",
    "10.\tUse loops, lists and dictionaries together to scale up pipetting steps\n",
    "11.\tUse Excel to create list of parsable commands to be copied and pasted into a protocol\n",
    "12.\tLocate information for converting scripts written in APIv1 into APIv2-coded scripts  \n",
    "\n",
    "13.\tWrite the framework of practically useful protocols for automatable experiments"
   ]
  },
  {
   "cell_type": "markdown",
   "metadata": {},
   "source": [
    "# System Setup\n",
    "\n",
    "## Install the IDE\n",
    "It is best to make use of an Integrated Development Environment (IDE) when writing codes. My personal experience suggests that  Spyder is most friendly to Python beginners and its Variable Explorer is tremendously helpful, both in debugging and in understanding how the code works. Some other workshops recommend Jupyter or PyCharm. Participants are welcomed to stick with the IDEs they are most comfortable with.\n",
    "\n",
    "The relatively fool-proof way to get Spyder is to download and install [Anaconda](https://www.anaconda.com/distribution/). For advanced users, the accompanying site packages like pandas and NumPy comes in handy for interfacing experiment results and experiment automation. (This will not be covered here)\n",
    "\n",
    "## Install the opentrons module\n",
    "\n",
    "Once Anaconda is installed, participants should open Spyder, and install the opentrons module / library, by typing in the IPython console:  \n",
    "\n",
    "`pip install opentrons`\n",
    "\n",
    "To check if the opentrons is correctly installed, participants should try and see if they could get the module version from the  console."
   ]
  },
  {
   "cell_type": "code",
   "execution_count": 18,
   "metadata": {},
   "outputs": [
    {
     "name": "stdout",
     "output_type": "stream",
     "text": [
      "3.16.1\n"
     ]
    }
   ],
   "source": [
    "import opentrons\n",
    "print(opentrons.__version__)"
   ]
  },
  {
   "cell_type": "markdown",
   "metadata": {},
   "source": [
    "Failure to do so should give an error message of `ModuleNotFoundError: No module named 'opentrons'`"
   ]
  },
  {
   "cell_type": "markdown",
   "metadata": {},
   "source": [
    "## Keeping the opentrons module up-to-date\n",
    "Opentrons update their API and library from time to time and it should happen together with OT-2 App and robot firmware upgrade. Always check if your opentrons module is the latest, and if needed, upgrade your opentrons module on your computer by typing in the terminal  \n",
    "\n",
    "`pip install opentrons --upgrade`"
   ]
  },
  {
   "cell_type": "markdown",
   "metadata": {},
   "source": [
    "# Setting up a simulation environment for drafts\n",
    "\n",
    "## Background\n",
    "Starting from OT-2 APIv2, Opentrons had separated modules for simulation and \n",
    "\n",
    "In the OT-2 APIv2, an executable protocol on the robot demands that all steps be wrapped inside a `def run()` function. This severely complicates debugging and renders the Spyder Variable Explorer useless. Thus, jumping directly to protocol building is discouraged in this workshop.\n",
    "\n",
    "\n",
    "The Opentrons APIv2, unlike it predecessor APIv1, does not allow simulation in the protocol in loco.\n"
   ]
  },
  {
   "cell_type": "markdown",
   "metadata": {},
   "source": [
    "# Additional remarks\n",
    "\n",
    "1. It is faster to use `pipette.transfer()` with list of well objects than looping a a single `pipette.transfer()` function multiple times. The difference in speed in unnoticeable on a PC but could mean 4-5 minutes of wait when API of a long protocol is compiled on a Pi-powered robot.\n",
    "\n",
    "The following example illustrates a comparison of the two methods, both trying to pipette 200 µL from well A1 to A7, B1 to B7, ... H6 to H12, for a total of 48 transfer steps.\n",
    "\n",
    "A single complex function processes multi-to-multi transfers much more efficiently, at the expense of losing fine-tuned control at the atomic movement level."
   ]
  },
  {
   "cell_type": "code",
   "execution_count": 1,
   "metadata": {},
   "outputs": [
    {
     "name": "stdout",
     "output_type": "stream",
     "text": [
      "Loading json containers...\n",
      "Json container file load complete, listing database\n",
      "Found 0 containers to add. Starting migration...\n",
      "Database migration complete!\n"
     ]
    },
    {
     "name": "stderr",
     "output_type": "stream",
     "text": [
      "C:\\Users\\s1635543\\.opentrons\\deck_calibration.json not found. Loading defaults\n",
      "C:\\Users\\s1635543\\.opentrons\\robot_settings.json not found. Loading defaults\n",
      "C:\\Users\\s1635543\\.opentrons\\deck_calibration.json not found. Loading defaults\n",
      "C:\\Users\\s1635543\\.opentrons\\robot_settings.json not found. Loading defaults\n"
     ]
    },
    {
     "name": "stdout",
     "output_type": "stream",
     "text": [
      "Run time comparison:\n",
      "Loop method: 0.6629588603973389\n",
      "Well object method: 0.11969971656799316\n"
     ]
    }
   ],
   "source": [
    "# Set up\n",
    "import time\n",
    "from opentrons import simulate\n",
    "protocol = simulate.get_protocol_api('2.2')\n",
    "tip_rack = protocol.load_labware('opentrons_96_tiprack_300ul', location = '1')\n",
    "plate = protocol.load_labware('corning_96_wellplate_360ul_flat', location = '2')\n",
    "pipette = protocol.load_instrument('p300_single', mount = 'right', tip_racks = [tip_rack])\n",
    "print('Run time comparison:')\n",
    "\n",
    "# Method 1: List for looping pipette.transfer\n",
    "transfer_info = {x: x + 48 for x in range(0,48)}\n",
    "\n",
    "start_time = time.time()\n",
    "for source_index, dest_index in transfer_info.items():\n",
    "    pipette.transfer(200, plate.wells(source_index), plate.wells(dest_index))\n",
    "end_time = time.time()\n",
    "time_diff = end_time - start_time\n",
    "print('Loop method: ' + str(time_diff))\n",
    "\n",
    "# Method 2: Looping through a series of wells\n",
    "source_wells = plate.columns()[0:3]\n",
    "dest_wells = plate.columns()[4:7]\n",
    "start_time = time.time()\n",
    "pipette.transfer(200, source_wells, dest_wells)\n",
    "end_time = time.time()\n",
    "time_diff = end_time - start_time\n",
    "print('Well object method: ' + str(time_diff))"
   ]
  },
  {
   "cell_type": "markdown",
   "metadata": {},
   "source": [
    "2. To interface with external files like .csv, the API provides a method but that is not recommended.\n",
    "That is however not recommended."
   ]
  }
 ],
 "metadata": {
  "kernelspec": {
   "display_name": "Python 3",
   "language": "python",
   "name": "python3"
  },
  "language_info": {
   "codemirror_mode": {
    "name": "ipython",
    "version": 3
   },
   "file_extension": ".py",
   "mimetype": "text/x-python",
   "name": "python",
   "nbconvert_exporter": "python",
   "pygments_lexer": "ipython3",
   "version": "3.7.6"
  }
 },
 "nbformat": 4,
 "nbformat_minor": 4
}
