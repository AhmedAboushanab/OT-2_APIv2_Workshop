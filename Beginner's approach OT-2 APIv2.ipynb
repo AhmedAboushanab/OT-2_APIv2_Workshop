{
 "cells": [
  {
   "cell_type": "markdown",
   "metadata": {
    "toc": true
   },
   "source": [
    "<h1>Table of Contents<span class=\"tocSkip\"></span></h1>\n",
    "<div class=\"toc\"><ul class=\"toc-item\"><li><span><a href=\"#Introduction\" data-toc-modified-id=\"Introduction-1\"><span class=\"toc-item-num\">1&nbsp;&nbsp;</span>Introduction</a></span></li><li><span><a href=\"#Disclaimer\" data-toc-modified-id=\"Disclaimer-2\"><span class=\"toc-item-num\">2&nbsp;&nbsp;</span>Disclaimer</a></span></li><li><span><a href=\"#Intended-Outcomes\" data-toc-modified-id=\"Intended-Outcomes-3\"><span class=\"toc-item-num\">3&nbsp;&nbsp;</span>Intended Outcomes</a></span></li><li><span><a href=\"#Preparation:-System-Setup\" data-toc-modified-id=\"Preparation:-System-Setup-4\"><span class=\"toc-item-num\">4&nbsp;&nbsp;</span>Preparation: System Setup</a></span><ul class=\"toc-item\"><li><span><a href=\"#Install-the-IDE\" data-toc-modified-id=\"Install-the-IDE-4.1\"><span class=\"toc-item-num\">4.1&nbsp;&nbsp;</span>Install the IDE</a></span></li><li><span><a href=\"#Install-the-opentrons-module\" data-toc-modified-id=\"Install-the-opentrons-module-4.2\"><span class=\"toc-item-num\">4.2&nbsp;&nbsp;</span>Install the opentrons module</a></span></li><li><span><a href=\"#Keeping-the-opentrons-module-up-to-date\" data-toc-modified-id=\"Keeping-the-opentrons-module-up-to-date-4.3\"><span class=\"toc-item-num\">4.3&nbsp;&nbsp;</span>Keeping the opentrons module up-to-date</a></span></li></ul></li><li><span><a href=\"#Setting-up-a-virtual-environment-for-simulating-a-robot\" data-toc-modified-id=\"Setting-up-a-virtual-environment-for-simulating-a-robot-5\"><span class=\"toc-item-num\">5&nbsp;&nbsp;</span>Setting up a virtual environment for simulating a robot</a></span></li><li><span><a href=\"#Creating-labware-objects\" data-toc-modified-id=\"Creating-labware-objects-6\"><span class=\"toc-item-num\">6&nbsp;&nbsp;</span>Creating labware objects</a></span></li><li><span><a href=\"#Additional-remarks\" data-toc-modified-id=\"Additional-remarks-7\"><span class=\"toc-item-num\">7&nbsp;&nbsp;</span>Additional remarks</a></span></li></ul></div>"
   ]
  },
  {
   "cell_type": "markdown",
   "metadata": {},
   "source": [
    "# Introduction\n",
    "This workshop aims at making the OT-2 APIv2 as approachable as possible for people like me who have limited experience in programming. The workshop material below is in someway just a skimmed walkthrough of the [Opentrons OT-2 APIv2 docs](http://docs.opentrons.com/v2). However, this is not meant to be a OT-2 programming 101 course and so it does not follow the official order nor their recommendations. OT-2 users who wish to make the most out of the robot are encouraged to peruse the docs.\n",
    "\n",
    "In the rest of the document, API refers to APIv2.\n",
    "\n",
    "To summarize, our approach to the API is:\n",
    "1. Build a virtual environment (a sandbox) to play around with features of the API  \n",
    "\\------ Draft starts ------\n",
    "2. Unit test the labwares, wells, pipettes and commands and get instant readouts\n",
    "3. Generate a human-trackable unit action, e.g. one single liquid transfer\n",
    "4. (Loop that unit action to scale up the experiment)  \n",
    "\\------ Draft ends ------\n",
    "5. Simulate the draft in the virtual environment, get the simulated output and check whether it is correct\n",
    "6. Remove the virtual environment and convert the draft into a proper script\n",
    "7. Do a final confirmation by simulating the script and exporting its formal runlog (__important for experiment documentation__)\n",
    "\n",
    "To avoid creating a script from scratch every time, I will briefly share how I structure my scripts.\n",
    "\n",
    "# Disclaimer\n",
    "1. I have limited experience in programming and received little formal training. Coding practices may be unorthodox and even heretic in the eyes of properly trained programmers.\n",
    "2. Methods of execution are in most cases suboptimal in performance. (see Additional Remarks #1)\n",
    "3. Please forgive my ocassional loss of professionalism in language.\n",
    "\n",
    "\n",
    "# Intended Outcomes\n",
    "\n",
    "By the end of the workshop, we hope participants would be able to:\n",
    "\n",
    "1. Read the documentation on APIv2, and know where to look for more information, and where to seek help if needed\n",
    "2. Set up a virtual environment for drafting a Python protocol for OT-2 APIv2\n",
    "3. Debug the code using the variable explorer and the console\n",
    "4. Import the opentrons library to initialize a protocol object, create labware objects and pipettes within it and retrieve their information\n",
    "5. Access wells of plates / racks\n",
    "6. Instruct the pipettes to carry out liquid movement using pipette.transfer() and pipette.distribute(), and configure them with additional parameters\n",
    "7. Create a custom pipetting step using building block commands\n",
    "8. Use loops, lists and dictionaries together to scale up pipetting steps\n",
    "9. Simulate the protocol in a PC and then converting it to a robot-executable one\n",
    "10. Export simulate results to a readable-file.\n",
    "11. Write the framework of practically useful protocols for automatable experiments \n",
    "12. Use Excel to create list of parsable commands to be copied and pasted into a protocol"
   ]
  },
  {
   "cell_type": "markdown",
   "metadata": {},
   "source": [
    "# Preparation: System Setup\n",
    "\n",
    "## Install the IDE\n",
    "It is best to make use of an Integrated Development Environment (IDE) when writing codes. My personal experience suggests that  Spyder is most friendly to Python beginners and its Variable Explorer is tremendously helpful, both in debugging and in understanding how the API works. Some other workshops recommend Jupyter or PyCharm. Participants are welcomed to stick with the IDEs they are most comfortable with.\n",
    "\n",
    "The relatively fool-proof way to get Spyder is to download and install [Anaconda](https://www.anaconda.com/distribution/). For advanced users, the accompanying site packages like pandas and NumPy comes in handy for interfacing experiment results and experiment automation. (This will not be covered here)\n",
    "\n",
    "## Install the opentrons module\n",
    "\n",
    "Once Anaconda is installed, participants should open Spyder, and install the opentrons module / library, by typing in the IPython console:  \n",
    "\n",
    "`pip install opentrons`\n",
    "\n",
    "To check if the opentrons is correctly installed, participants should try and see if they could get the module version from the  console."
   ]
  },
  {
   "cell_type": "code",
   "execution_count": 18,
   "metadata": {},
   "outputs": [
    {
     "name": "stdout",
     "output_type": "stream",
     "text": [
      "3.16.1\n"
     ]
    }
   ],
   "source": [
    "import opentrons\n",
    "print(opentrons.__version__)"
   ]
  },
  {
   "cell_type": "markdown",
   "metadata": {},
   "source": [
    "Failure to do so should give an error message of `ModuleNotFoundError: No module named 'opentrons'`"
   ]
  },
  {
   "cell_type": "markdown",
   "metadata": {},
   "source": [
    "## Keeping the opentrons module up-to-date\n",
    "Opentrons update their API and library from time to time and it should happen together with OT-2 App and robot firmware upgrade. Always check if your opentrons module is the latest, and if needed, upgrade your opentrons module on your computer by typing in the terminal  \n",
    "\n",
    "`pip install opentrons --upgrade`"
   ]
  },
  {
   "cell_type": "markdown",
   "metadata": {},
   "source": [
    "# Setting up a virtual environment for simulating a robot\n",
    "\n",
    "The following section corresponds to [\"Simulating your scripts\"](https://docs.opentrons.com/v2/writing.html#simulating-your-scripts) from the API docs.\n",
    "\n",
    "Let's start by typing the following into the Spyder Editor."
   ]
  },
  {
   "cell_type": "code",
   "execution_count": 1,
   "metadata": {},
   "outputs": [
    {
     "name": "stdout",
     "output_type": "stream",
     "text": [
      "Loading json containers...\n",
      "Json container file load complete, listing database\n",
      "Found 0 containers to add. Starting migration...\n",
      "Database migration complete!\n"
     ]
    },
    {
     "name": "stderr",
     "output_type": "stream",
     "text": [
      "C:\\Users\\User\\.opentrons\\deck_calibration.json not found. Loading defaults\n",
      "C:\\Users\\User\\.opentrons\\robot_settings.json not found. Loading defaults\n",
      "C:\\Users\\User\\.opentrons\\deck_calibration.json not found. Loading defaults\n",
      "C:\\Users\\User\\.opentrons\\robot_settings.json not found. Loading defaults\n"
     ]
    }
   ],
   "source": [
    "from opentrons import simulate\n",
    "protocol = simulate.get_protocol_api(version = '2.2')"
   ]
  },
  {
   "cell_type": "markdown",
   "metadata": {},
   "source": [
    "The `protocol` object is the starting point of all robot related actions, like choosing the pipette and putting labwares on deck. It also stores the simulated output of the robot. To inspect its functions and attributes, run `dir(protocol)` in the IPython console."
   ]
  },
  {
   "cell_type": "markdown",
   "metadata": {},
   "source": [
    "# Creating labware objects\n",
    "\n",
    "The following section corresponds to [\"Labware\"](https://docs.opentrons.com/v2/new_labware.html#labware) and [\"Default labware\"](https://docs.opentrons.com/v2/new_labware.html#default-labware) from the Opentrons docs.\n",
    "\n",
    "Opentrons' definition of labware includes both the mult-well plates/racks/reserviors and the tip racks. They are loaded onto the robot via the function:\n",
    "`var = protocol.load_labware(load_name, location)`  \n",
    "- load_name: what is your labware?  \n",
    "For example\n",
    "- slot: which of the slot (1-11) are you placing it?\n"
   ]
  },
  {
   "cell_type": "code",
   "execution_count": 11,
   "metadata": {},
   "outputs": [],
   "source": [
    "plate = protocol.load_labware('corning_96_wellplate_360ul_flat', 1)"
   ]
  },
  {
   "cell_type": "code",
   "execution_count": 13,
   "metadata": {},
   "outputs": [
    {
     "name": "stderr",
     "output_type": "stream",
     "text": [
      "C:\\Users\\User\\.opentrons\\deck_calibration.json not found. Loading defaults\n",
      "C:\\Users\\User\\.opentrons\\robot_settings.json not found. Loading defaults\n"
     ]
    }
   ],
   "source": [
    "protocol = simulate.get_protocol_api(version = '2.2')"
   ]
  },
  {
   "cell_type": "code",
   "execution_count": 12,
   "metadata": {},
   "outputs": [
    {
     "data": {
      "text/plain": [
       "Corning 96 Well Plate 360 µL Flat on 1"
      ]
     },
     "execution_count": 12,
     "metadata": {},
     "output_type": "execute_result"
    }
   ],
   "source": [
    "plate"
   ]
  },
  {
   "cell_type": "markdown",
   "metadata": {},
   "source": [
    "# Additional remarks\n",
    "\n",
    "1. It is faster to use `pipette.transfer()` with list of well objects than looping a a single `pipette.transfer()` function multiple times. The difference in speed in unnoticeable on a PC but could mean 4-5 minutes of wait when API of a long protocol is compiled on a Pi-powered robot.\n",
    "\n",
    "The following example illustrates a comparison of the two methods, both trying to pipette 200 µL from well A1 to A7, B1 to B7, ... H6 to H12, for a total of 48 transfer steps.\n",
    "\n",
    "A single complex function processes multi-to-multi transfers much more efficiently, at the expense of losing fine-tuned control at the atomic movement level."
   ]
  },
  {
   "cell_type": "code",
   "execution_count": 1,
   "metadata": {},
   "outputs": [
    {
     "name": "stdout",
     "output_type": "stream",
     "text": [
      "Loading json containers...\n",
      "Json container file load complete, listing database\n",
      "Found 0 containers to add. Starting migration...\n",
      "Database migration complete!\n"
     ]
    },
    {
     "name": "stderr",
     "output_type": "stream",
     "text": [
      "C:\\Users\\s1635543\\.opentrons\\deck_calibration.json not found. Loading defaults\n",
      "C:\\Users\\s1635543\\.opentrons\\robot_settings.json not found. Loading defaults\n",
      "C:\\Users\\s1635543\\.opentrons\\deck_calibration.json not found. Loading defaults\n",
      "C:\\Users\\s1635543\\.opentrons\\robot_settings.json not found. Loading defaults\n"
     ]
    },
    {
     "name": "stdout",
     "output_type": "stream",
     "text": [
      "Run time comparison:\n",
      "Loop method: 0.6629588603973389\n",
      "Well object method: 0.11969971656799316\n"
     ]
    }
   ],
   "source": [
    "# Set up\n",
    "import time\n",
    "from opentrons import simulate\n",
    "protocol = simulate.get_protocol_api('2.2')\n",
    "tip_rack = protocol.load_labware('opentrons_96_tiprack_300ul', location = '1')\n",
    "plate = protocol.load_labware('corning_96_wellplate_360ul_flat', location = '2')\n",
    "pipette = protocol.load_instrument('p300_single', mount = 'right', tip_racks = [tip_rack])\n",
    "print('Run time comparison:')\n",
    "\n",
    "# Method 1: List for looping pipette.transfer\n",
    "transfer_info = {x: x + 48 for x in range(0,48)}\n",
    "\n",
    "start_time = time.time()\n",
    "for source_index, dest_index in transfer_info.items():\n",
    "    pipette.transfer(200, plate.wells(source_index), plate.wells(dest_index))\n",
    "end_time = time.time()\n",
    "time_diff = end_time - start_time\n",
    "print('Loop method: ' + str(time_diff))\n",
    "\n",
    "# Method 2: Looping through a series of wells\n",
    "source_wells = plate.columns()[0:3]\n",
    "dest_wells = plate.columns()[4:7]\n",
    "start_time = time.time()\n",
    "pipette.transfer(200, source_wells, dest_wells)\n",
    "end_time = time.time()\n",
    "time_diff = end_time - start_time\n",
    "print('Well object method: ' + str(time_diff))"
   ]
  },
  {
   "cell_type": "markdown",
   "metadata": {},
   "source": [
    "2. To interface with external files like .csv, the API provides a method but that is not recommended.\n",
    "That is however not recommended."
   ]
  }
 ],
 "metadata": {
  "kernelspec": {
   "display_name": "Python 3",
   "language": "python",
   "name": "python3"
  },
  "language_info": {
   "codemirror_mode": {
    "name": "ipython",
    "version": 3
   },
   "file_extension": ".py",
   "mimetype": "text/x-python",
   "name": "python",
   "nbconvert_exporter": "python",
   "pygments_lexer": "ipython3",
   "version": "3.7.6"
  },
  "toc": {
   "base_numbering": 1,
   "nav_menu": {},
   "number_sections": true,
   "sideBar": true,
   "skip_h1_title": false,
   "title_cell": "Table of Contents",
   "title_sidebar": "Contents",
   "toc_cell": true,
   "toc_position": {},
   "toc_section_display": true,
   "toc_window_display": true
  },
  "varInspector": {
   "cols": {
    "lenName": 16,
    "lenType": 16,
    "lenVar": 40
   },
   "kernels_config": {
    "python": {
     "delete_cmd_postfix": "",
     "delete_cmd_prefix": "del ",
     "library": "var_list.py",
     "varRefreshCmd": "print(var_dic_list())"
    },
    "r": {
     "delete_cmd_postfix": ") ",
     "delete_cmd_prefix": "rm(",
     "library": "var_list.r",
     "varRefreshCmd": "cat(var_dic_list()) "
    }
   },
   "types_to_exclude": [
    "module",
    "function",
    "builtin_function_or_method",
    "instance",
    "_Feature"
   ],
   "window_display": false
  }
 },
 "nbformat": 4,
 "nbformat_minor": 4
}
